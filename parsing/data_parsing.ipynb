{
 "cells": [
  {
   "cell_type": "markdown",
   "metadata": {},
   "source": [
    "## Part #1: Parsing and saving data\n",
    "\n",
    "By using requests library, I get html code of the wikipedia page\n",
    "Then, by using BeautifulSoup, table with top grossing films is being found, parsed and preprocessed"
   ]
  },
  {
   "cell_type": "code",
   "execution_count": null,
   "metadata": {},
   "outputs": [],
   "source": [
    "import requests\n",
    "from bs4 import BeautifulSoup\n",
    "import sqlite3\n",
    "import pandas as pd\n",
    "\n",
    "url = \"https://en.wikipedia.org/wiki/List_of_highest-grossing_films\"\n",
    "response = requests.get(url)\n",
    "soup = BeautifulSoup(response.text, 'html.parser')\n",
    "\n",
    "table = soup.find('table', {'class': 'wikitable'})\n",
    "\n",
    "rows = table.find_all('tr')[1:]  # Skip header\n",
    "films = []\n",
    "\n",
    "for row in rows:\n",
    "    cols = row.find_all('td')\n",
    "    \n",
    "    title = row.find('i').find('a')['title'] \n",
    "    title = str(title).replace('[', '').replace(']', '')\n",
    "    year = cols[3].text.strip()\n",
    "    director = '-' #TODO: later\n",
    "    revenue = cols[2].text.strip().split('$')[-1]\n",
    "    \n",
    "    revenue = revenue.replace('$', '').replace(',', '')\n",
    "\n",
    "    country_of_origin = director #TODO: later\n",
    "    \n",
    "    films.append({\n",
    "        'title': title,\n",
    "        'release_year': year,\n",
    "        'director': director,\n",
    "        'box_office': revenue,\n",
    "        'country': country_of_origin\n",
    "    })\n",
    "\n",
    "df = pd.DataFrame(films)"
   ]
  },
  {
   "cell_type": "code",
   "execution_count": 70,
   "metadata": {},
   "outputs": [],
   "source": [
    "conn = sqlite3.connect('../data/films.db')\n",
    "cursor = conn.cursor()\n",
    "\n",
    "# Create table\n",
    "cursor.execute('''\n",
    "    CREATE TABLE IF NOT EXISTS films (\n",
    "        id INTEGER PRIMARY KEY AUTOINCREMENT,\n",
    "        title TEXT,\n",
    "        release_year INT,\n",
    "        director TEXT,\n",
    "        box_office REAL,\n",
    "        country TEXT\n",
    "    )\n",
    "''')\n",
    "\n",
    "# Insert data\n",
    "df.to_sql('films', conn, if_exists='replace', index=False)\n",
    "conn.commit()\n",
    "conn.close()"
   ]
  },
  {
   "cell_type": "code",
   "execution_count": 71,
   "metadata": {},
   "outputs": [],
   "source": [
    "df.to_json('../data/films.json', orient='records', indent=2)"
   ]
  }
 ],
 "metadata": {
  "kernelspec": {
   "display_name": "3.9.13",
   "language": "python",
   "name": "python3"
  },
  "language_info": {
   "codemirror_mode": {
    "name": "ipython",
    "version": 3
   },
   "file_extension": ".py",
   "mimetype": "text/x-python",
   "name": "python",
   "nbconvert_exporter": "python",
   "pygments_lexer": "ipython3",
   "version": "3.9.13"
  }
 },
 "nbformat": 4,
 "nbformat_minor": 2
}
